{
 "cells": [
  {
   "cell_type": "code",
   "execution_count": 1,
   "metadata": {},
   "outputs": [],
   "source": [
    "import cv2\n",
    "import matplotlib.pyplot as plt\n",
    "import importlib\n",
    "import os\n",
    "from ipywidgets import interact\n",
    "from ipywidgets import interact_manual\n",
    "from IPython.display import display\n",
    "from ipywidgets import widgets"
   ]
  },
  {
   "cell_type": "code",
   "execution_count": 2,
   "metadata": {},
   "outputs": [
    {
     "data": {
      "text/plain": [
       "<module 'ipynb.fs.full.dicomHandler' (/mnt/6884ACCB84AC9CD6/OneDrive - FEI/Aulas/Graduacao/8 - Semestre/CC8421 - TRABALHO FINAL DE CURSO II/image-segmentation/dicomHandler.ipynb)>"
      ]
     },
     "execution_count": 2,
     "metadata": {},
     "output_type": "execute_result"
    }
   ],
   "source": [
    "import ipynb.fs.full.wspFFA as wspFirefly\n",
    "import ipynb.fs.full.wspCS as wspCuckooSearch\n",
    "import ipynb.fs.full.wspKH as wspKrillHerd\n",
    "import ipynb.fs.full.wspEHO as wspElephantHerding\n",
    "import ipynb.fs.full.wspABC as wspArtificialBeeColony\n",
    "\n",
    "import ipynb.fs.full.plotGraph as plotGraph\n",
    "import ipynb.fs.full.wspMultithreshold as wspMultithreshold\n",
    "import ipynb.fs.full.dicomHandler as dicomHandler\n",
    "\n",
    "importlib.reload(wspFirefly)\n",
    "importlib.reload(wspCuckooSearch)\n",
    "importlib.reload(wspKrillHerd)\n",
    "importlib.reload(wspElephantHerding)\n",
    "importlib.reload(wspArtificialBeeColony)\n",
    "\n",
    "importlib.reload(plotGraph)\n",
    "importlib.reload(wspMultithreshold)\n",
    "importlib.reload(dicomHandler)"
   ]
  },
  {
   "cell_type": "code",
   "execution_count": 3,
   "metadata": {},
   "outputs": [],
   "source": [
    "def readImage(img_path):\n",
    "    image = cv2.imread(img_path)\n",
    "    img = cv2.cvtColor(image, cv2.COLOR_BGR2GRAY)\n",
    "\n",
    "    return img"
   ]
  },
  {
   "cell_type": "code",
   "execution_count": 4,
   "metadata": {},
   "outputs": [],
   "source": [
    "bio_algorithms = ['FFA','KH', 'CS', 'ABC', 'EHO']"
   ]
  },
  {
   "cell_type": "code",
   "execution_count": 5,
   "metadata": {},
   "outputs": [],
   "source": [
    "folder_dir = \"images\"\n",
    "\n",
    "all_images = [\"../Database/I1680000\"]\n",
    "\n",
    "for file in os.listdir(folder_dir):\n",
    "    if file.endswith('.png') or file.endswith('.jpg'):\n",
    "       all_images.append(file)"
   ]
  },
  {
   "cell_type": "code",
   "execution_count": 6,
   "metadata": {},
   "outputs": [],
   "source": [
    "def main(image, algorithm, dimension, q):\n",
    "    dicom_image, pixel_array = dicomHandler.read_dicom_image(image)\n",
    "    \n",
    "    hu_image = dicomHandler.transform_to_hu(dicom_image, pixel_array)\n",
    "\n",
    "    hist, bin_edges, best_thresholds, img_thres = wspMultithreshold.wspMultithreshold(hu_image, algorithm, dimension, q)\n",
    "\n",
    "    plotGraph.plot_image_histogram(hu_image, hist, bin_edges)\n",
    "    \n",
    "    high_intensity = wspMultithreshold.get_high_intensity_pixels(img_thres)\n",
    "    \n",
    "    pixel_array = dicomHandler.transform_to_pixel_array(dicom_image, high_intensity)\n",
    "\n",
    "    hard_tissue = wspMultithreshold.get_largest_region(pixel_array)\n",
    "\n",
    "    #dicomHandler.save_dicom(dicom_image, pixel_array,\"images/temp.dcm\")\n",
    "    \n",
    "    plotGraph.plot_image_histogram_threshold(img_thres, hist, bin_edges, best_thresholds)\n",
    "\n",
    "    dicomHandler.show_dicom_image(high_intensity)\n",
    "    dicomHandler.show_dicom_image(hard_tissue)"
   ]
  },
  {
   "cell_type": "code",
   "execution_count": 7,
   "metadata": {},
   "outputs": [
    {
     "data": {
      "application/vnd.jupyter.widget-view+json": {
       "model_id": "a3261ca7b9df4f799a93dfb36168d5ff",
       "version_major": 2,
       "version_minor": 0
      },
      "text/plain": [
       "interactive(children=(Dropdown(description='image', options=('../Database/I1680000', 'lenna.png', 'mountain.jp…"
      ]
     },
     "metadata": {},
     "output_type": "display_data"
    },
    {
     "data": {
      "text/plain": [
       "<function __main__.main(image, algorithm, dimension, q)>"
      ]
     },
     "execution_count": 7,
     "metadata": {},
     "output_type": "execute_result"
    }
   ],
   "source": [
    "interact_manual(main, image=all_images, algorithm=bio_algorithms, \n",
    "    dimension=widgets.IntSlider(min=1, max=5, step=1, value=2),\n",
    "    q=widgets.FloatSlider(min=-2, max=2, step=0.1, value=1))"
   ]
  }
 ],
 "metadata": {
  "kernelspec": {
   "display_name": "Python 3.10.4 ('tcc_env')",
   "language": "python",
   "name": "python3"
  },
  "language_info": {
   "codemirror_mode": {
    "name": "ipython",
    "version": 3
   },
   "file_extension": ".py",
   "mimetype": "text/x-python",
   "name": "python",
   "nbconvert_exporter": "python",
   "pygments_lexer": "ipython3",
   "version": "3.10.4"
  },
  "orig_nbformat": 4,
  "vscode": {
   "interpreter": {
    "hash": "50c3a715107fe4dcdc7dcc1225e41dc08fefd31cb688eb0c1f730ec66093fb86"
   }
  }
 },
 "nbformat": 4,
 "nbformat_minor": 2
}
