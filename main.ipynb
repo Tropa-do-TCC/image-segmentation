{
 "cells": [
  {
   "cell_type": "code",
   "execution_count": 1,
   "metadata": {},
   "outputs": [],
   "source": [
    "import cv2\n",
    "import matplotlib.pyplot as plt\n",
    "import importlib\n",
    "import os\n",
    "from ipywidgets import interact\n",
    "from ipywidgets import interact_manual\n",
    "from IPython.display import display\n",
    "from ipywidgets import widgets"
   ]
  },
  {
   "cell_type": "code",
   "execution_count": 2,
   "metadata": {},
   "outputs": [
    {
     "data": {
      "text/plain": [
       "<module 'ipynb.fs.full.dicomHandler' (/mnt/6884ACCB84AC9CD6/OneDrive - FEI/Aulas/Graduacao/8 - Semestre/CC8421 - TRABALHO FINAL DE CURSO II/image-segmentation/dicomHandler.ipynb)>"
      ]
     },
     "execution_count": 2,
     "metadata": {},
     "output_type": "execute_result"
    }
   ],
   "source": [
    "import ipynb.fs.full.wspFFA as wspFirefly\n",
    "import ipynb.fs.full.wspCS as wspCuckooSearch\n",
    "import ipynb.fs.full.wspKH as wspKrillHerd\n",
    "import ipynb.fs.full.wspEHO as wspElephantHerding\n",
    "import ipynb.fs.full.wspABC as wspArtificialBeeColony\n",
    "\n",
    "import ipynb.fs.full.plotGraph as plotGraph\n",
    "import ipynb.fs.full.wspMultithreshold as wspMultithreshold\n",
    "import ipynb.fs.full.dicomHandler as dicomHandler\n",
    "\n",
    "importlib.reload(wspFirefly)\n",
    "importlib.reload(wspCuckooSearch)\n",
    "importlib.reload(wspKrillHerd)\n",
    "importlib.reload(wspElephantHerding)\n",
    "importlib.reload(wspArtificialBeeColony)\n",
    "\n",
    "importlib.reload(plotGraph)\n",
    "importlib.reload(wspMultithreshold)\n",
    "importlib.reload(dicomHandler)"
   ]
  },
  {
   "cell_type": "code",
   "execution_count": 3,
   "metadata": {},
   "outputs": [],
   "source": [
    "def readImage(img_path):\n",
    "    image = cv2.imread(img_path)\n",
    "    img = cv2.cvtColor(image, cv2.COLOR_BGR2GRAY)\n",
    "\n",
    "    return img"
   ]
  },
  {
   "cell_type": "code",
   "execution_count": 4,
   "metadata": {},
   "outputs": [],
   "source": [
    "bio_algorithms = ['FFA','KH', 'CS', 'ABC', 'EHO']"
   ]
  },
  {
   "cell_type": "code",
   "execution_count": 5,
   "metadata": {},
   "outputs": [],
   "source": [
    "folder_dir = \"images\"\n",
    "\n",
    "data_dir = \"../Database/UsevillaBone/original/\"\n",
    "gt_dir = \"../Database/UsevillaBone/segmented/\"\n",
    "\n",
    "all_images = []\n",
    "gt_images = []\n",
    "\n",
    "for fatia in os.listdir(data_dir):\n",
    "    all_images.append(data_dir+fatia)\n",
    "    gt_images.append(gt_dir+fatia)\n",
    "all_images = [\"../Database/UsevillaBone/original/CASE_20_1.npy\", \"../Database/UsevillaBone/original/CASE_10_2.npy\", \"../Database/UsevillaBone/original/CASE_22_8.npy\", \"../Database/UsevillaBone/original/CASE_4_4.npy\", \"../Database/UsevillaBone/original/CASE_9_3.npy\", \"../Database/UsevillaBone/original/CASE_7_9.npy\"]\n",
    "gt_images = [\"../Database/UsevillaBone/segmented/CASE_20_1.npy\", \"../Database/UsevillaBone/segmented/CASE_10_2.npy\", \"../Database/UsevillaBone/segmented/CASE_22_8.npy\", \"../Database/UsevillaBone/segmented/CASE_4_4.npy\", \"../Database/UsevillaBone/segmented/CASE_9_3.npy\", \"../Database/UsevillaBone/segmented/CASE_7_9.npy\"]\n",
    "#for file in os.listdir(folder_dir):\n",
    "#    if file.endswith('.png') or file.endswith('.jpg'):\n",
    "#       all_images.append(file)"
   ]
  },
  {
   "cell_type": "code",
   "execution_count": 6,
   "metadata": {},
   "outputs": [],
   "source": [
    "import numpy as np"
   ]
  },
  {
   "cell_type": "code",
   "execution_count": 7,
   "metadata": {},
   "outputs": [],
   "source": [
    "def main(image, algorithm, dimension, q, b, kernel):\n",
    "    pixel_array = dicomHandler.read_npy_image(image)\n",
    "    \n",
    "    blur = cv2.GaussianBlur(pixel_array, (kernel,kernel), 0)\n",
    "\n",
    "    print(\"Original:\", pixel_array.min(), pixel_array.max())\n",
    "    transformed_pixel_array = dicomHandler.image_transformation(blur, b)\n",
    "    print(\"Transformação:\", transformed_pixel_array.min(), transformed_pixel_array.max())\n",
    "\n",
    "\n",
    "    plotGraph.plot_n_images([pixel_array, blur, transformed_pixel_array, np.load(gt_images[all_images.index(image)])])\n",
    "\n",
    "    original_image = pixel_array.copy()\n",
    "\n",
    "    hu_image = dicomHandler.transform_npy_to_hu(transformed_pixel_array)\n",
    "\n",
    "    hist, bin_edges, best_thresholds, img_thres = wspMultithreshold.wspMultithreshold(hu_image, algorithm, dimension, q)\n",
    "\n",
    "    high_intensity = wspMultithreshold.get_high_intensity_pixels(img_thres)\n",
    "    \n",
    "    pixel_array = dicomHandler.transform_to_npy_pixel_array(high_intensity)\n",
    "\n",
    "    hard_tissue = wspMultithreshold.get_largests_regions(pixel_array, original_image)\n",
    "    \n",
    "    plotGraph.plot_image_histogram(hu_image, hist, bin_edges)\n",
    "    plotGraph.plot_image_histogram_threshold(img_thres, hist, bin_edges, best_thresholds)\n",
    "    \n",
    "    plotGraph.plot_n_images([high_intensity, hard_tissue, np.load(gt_images[all_images.index(image)])])\n",
    "\n",
    "    #dicomHandler.save_npy(high_intensity, \"teste.npy\")"
   ]
  },
  {
   "cell_type": "code",
   "execution_count": 8,
   "metadata": {},
   "outputs": [
    {
     "data": {
      "application/vnd.jupyter.widget-view+json": {
       "model_id": "e85e6a824e094faa8c7a9db041c5f564",
       "version_major": 2,
       "version_minor": 0
      },
      "text/plain": [
       "interactive(children=(Dropdown(description='image', options=('../Database/UsevillaBone/original/CASE_20_1.npy'…"
      ]
     },
     "metadata": {},
     "output_type": "display_data"
    },
    {
     "data": {
      "text/plain": [
       "<function __main__.main(image, algorithm, dimension, q, b, kernel)>"
      ]
     },
     "execution_count": 8,
     "metadata": {},
     "output_type": "execute_result"
    }
   ],
   "source": [
    "interact_manual(main, image=all_images, algorithm=bio_algorithms, \n",
    "    dimension=widgets.IntSlider(min=1, max=5, step=1, value=1),\n",
    "    q=widgets.FloatSlider(min=-2, max=2, step=0.1, value=1),\n",
    "    b=widgets.FloatSlider(min=1, max=50, step=0.1, value=1.5),\n",
    "    kernel=widgets.IntSlider(min=1,max=10, step=1, value=3))"
   ]
  }
 ],
 "metadata": {
  "kernelspec": {
   "display_name": "Python 3.10.4 ('tcc_env')",
   "language": "python",
   "name": "python3"
  },
  "language_info": {
   "codemirror_mode": {
    "name": "ipython",
    "version": 3
   },
   "file_extension": ".py",
   "mimetype": "text/x-python",
   "name": "python",
   "nbconvert_exporter": "python",
   "pygments_lexer": "ipython3",
   "version": "3.10.4"
  },
  "orig_nbformat": 4,
  "vscode": {
   "interpreter": {
    "hash": "50c3a715107fe4dcdc7dcc1225e41dc08fefd31cb688eb0c1f730ec66093fb86"
   }
  }
 },
 "nbformat": 4,
 "nbformat_minor": 2
}
