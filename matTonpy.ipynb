{
 "cells": [
  {
   "cell_type": "code",
   "execution_count": 2,
   "metadata": {},
   "outputs": [],
   "source": [
    "import os\n",
    "import scipy.io\n",
    "import numpy as np\n",
    "import matplotlib.pyplot as plt"
   ]
  },
  {
   "cell_type": "code",
   "execution_count": 3,
   "metadata": {},
   "outputs": [],
   "source": [
    "data_dir = \"../Database/USevillaBoneandMuscleDATABASE/\"\n",
    "org_output_dir = \"../Database/UsevillaBone/original/\"\n",
    "seg_output_dir = \"../Database/UsevillaBone/segmented/\""
   ]
  },
  {
   "cell_type": "code",
   "execution_count": 3,
   "metadata": {},
   "outputs": [],
   "source": [
    "dataset_files = []\n",
    "\n",
    "for file in os.listdir(data_dir):\n",
    "    if file != 'teste.m':\n",
    "        dataset_files.append(file)"
   ]
  },
  {
   "cell_type": "code",
   "execution_count": 4,
   "metadata": {},
   "outputs": [],
   "source": [
    "head_scans = ['CASE_20.mat', 'CASE_23.mat', 'CASE_24.mat', 'CASE_27.mat']"
   ]
  },
  {
   "cell_type": "code",
   "execution_count": 5,
   "metadata": {},
   "outputs": [],
   "source": [
    "for file in dataset_files:\n",
    "    mat = scipy.io.loadmat(data_dir + '/' + file)\n",
    "    file_name = file.split('.')[0]\n",
    "    #if file in head_scans:\n",
    "    for i in range(mat['CASO'].shape[-1]):    \n",
    "        with open(f\"{org_output_dir}/{file_name}_{i+1}.npy\", 'wb') as f:\n",
    "            np.save(f, mat['CASO'][:,:,i])\n",
    "\n",
    "    for i in range(mat['GT_BONE'].shape[-1]):    \n",
    "        with open(f\"{seg_output_dir}/{file_name}_{i+1}.npy\", 'wb') as f:\n",
    "            np.save(f, mat['GT_BONE'][:,:,i])"
   ]
  }
 ],
 "metadata": {
  "kernelspec": {
   "display_name": "Python 3.10.4 ('tcc_env')",
   "language": "python",
   "name": "python3"
  },
  "language_info": {
   "codemirror_mode": {
    "name": "ipython",
    "version": 3
   },
   "file_extension": ".py",
   "mimetype": "text/x-python",
   "name": "python",
   "nbconvert_exporter": "python",
   "pygments_lexer": "ipython3",
   "version": "3.10.4"
  },
  "orig_nbformat": 4,
  "vscode": {
   "interpreter": {
    "hash": "50c3a715107fe4dcdc7dcc1225e41dc08fefd31cb688eb0c1f730ec66093fb86"
   }
  }
 },
 "nbformat": 4,
 "nbformat_minor": 2
}
