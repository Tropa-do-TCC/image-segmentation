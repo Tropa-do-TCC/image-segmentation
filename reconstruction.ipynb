{
 "cells": [
  {
   "cell_type": "code",
   "execution_count": 13,
   "metadata": {},
   "outputs": [],
   "source": [
    "import vtk"
   ]
  },
  {
   "cell_type": "code",
   "execution_count": 14,
   "metadata": {},
   "outputs": [],
   "source": [
    "# dicom_dir = '../Database/2EFVJVCN-Osso' #path to dcom image folder\n",
    "#dicom_dir = '../Database/CQ500-CT-412/CQ500CT412 CQ500CT412/Unknown Study/CT 0.625mm/'\n",
    "#dicom_dir = '../Database/2EFVJVCN-HighIntensity-FFA-d2-q1'\n",
    "dicom_dir = '../Database/2EFVJVCN-Temp'\n",
    "#dicom_dir = '../Database/2EFVJVCN'\n"
   ]
  },
  {
   "cell_type": "code",
   "execution_count": 15,
   "metadata": {},
   "outputs": [],
   "source": [
    "if dicom_dir == '../Database/2EFVJVCN':\n",
    "    iso_value = 200\n",
    "else:\n",
    "    iso_value = 0"
   ]
  },
  {
   "cell_type": "code",
   "execution_count": 16,
   "metadata": {},
   "outputs": [],
   "source": [
    "'''\n",
    "A class holding colors and their names. \n",
    "'''\n",
    "colors = vtk.vtkNamedColors()\n",
    "\n",
    "if iso_value is None and dicom_dir is not None:\n",
    "    print('An ISO value is needed.')\n",
    "\n",
    "volume = vtk.vtkImageData()\n",
    "if dicom_dir is None:\n",
    "    pass\n",
    "\n",
    "else:\n",
    "    reader = vtk.vtkDICOMImageReader()\n",
    "    reader.SetDirectoryName(dicom_dir)\n",
    "    reader.Update()\n",
    "    volume.DeepCopy(reader.GetOutput())\n",
    "\n",
    "surface = vtk.vtkMarchingCubes()\n",
    "surface.SetInputData(volume)\n",
    "surface.ComputeNormalsOn()\n",
    "surface.SetValue(0, iso_value)\n",
    "\n",
    "renderer = vtk.vtkRenderer()\n",
    "renderer.SetBackground(colors.GetColor3d('DarkSlateGray'))\n",
    "\n",
    "render_window = vtk.vtkRenderWindow()\n",
    "render_window.AddRenderer(renderer)\n",
    "render_window.SetWindowName('MarchingCubes')\n",
    "\n",
    "interactor = vtk.vtkRenderWindowInteractor()\n",
    "interactor.SetRenderWindow(render_window)\n",
    "\n",
    "mapper = vtk.vtkPolyDataMapper()\n",
    "mapper.SetInputConnection(surface.GetOutputPort())\n",
    "mapper.ScalarVisibilityOff()\n",
    "\n",
    "actor = vtk.vtkActor()\n",
    "actor.SetMapper(mapper)\n",
    "actor.GetProperty().SetColor(colors.GetColor3d('MistyRose'))\n",
    "\n",
    "renderer.AddActor(actor)\n",
    "\n",
    "render_window.Render()\n",
    "interactor.Start()"
   ]
  }
 ],
 "metadata": {
  "kernelspec": {
   "display_name": "Python 3.10.4 ('tcc_env')",
   "language": "python",
   "name": "python3"
  },
  "language_info": {
   "codemirror_mode": {
    "name": "ipython",
    "version": 3
   },
   "file_extension": ".py",
   "mimetype": "text/x-python",
   "name": "python",
   "nbconvert_exporter": "python",
   "pygments_lexer": "ipython3",
   "version": "3.10.4"
  },
  "orig_nbformat": 4,
  "vscode": {
   "interpreter": {
    "hash": "50c3a715107fe4dcdc7dcc1225e41dc08fefd31cb688eb0c1f730ec66093fb86"
   }
  }
 },
 "nbformat": 4,
 "nbformat_minor": 2
}
