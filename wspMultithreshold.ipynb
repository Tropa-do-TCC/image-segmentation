{
 "cells": [
  {
   "cell_type": "code",
   "execution_count": null,
   "metadata": {},
   "outputs": [],
   "source": [
    "import numpy as np"
   ]
  },
  {
   "cell_type": "code",
   "execution_count": 2,
   "metadata": {},
   "outputs": [],
   "source": [
    "from ipynb.fs.full.wspFFA import wspFirefly\n",
    "from ipynb.fs.full.wspCS import wspCuckooSearch\n",
    "from ipynb.fs.full.wspKH import wspKrillHerd\n",
    "from ipynb.fs.full.wspEHO import wspElephantHerding\n",
    "from ipynb.fs.full.wspABC import wspArtificialBeeColony"
   ]
  },
  {
   "cell_type": "code",
   "execution_count": null,
   "metadata": {},
   "outputs": [],
   "source": [
    "from ipynb.fs.full.wspShannonEvaluation import wspShannonEvaluation\n",
    "from ipynb.fs.full.wspTsallisEvaluation import wspTsallisEvaluation"
   ]
  },
  {
   "cell_type": "code",
   "execution_count": 3,
   "metadata": {},
   "outputs": [],
   "source": [
    "def wspGrayHistogram(hu_img):\n",
    "    lower_bound = int(hu_img.min())\n",
    "    upper_bound = int(hu_img.max())+1\n",
    "\n",
    "    #hist, _ = np.histogram(hu_img,256,[0,255])\n",
    "    hist, bin_edges = np.histogram(hu_img, abs(lower_bound)+upper_bound, [lower_bound, upper_bound])\n",
    "    bin_edges = bin_edges[:-1]\n",
    "\n",
    "    hist = hist/np.sum(hist)\n",
    "\n",
    "    return hist, bin_edges, lower_bound, upper_bound"
   ]
  },
  {
   "cell_type": "code",
   "execution_count": null,
   "metadata": {},
   "outputs": [],
   "source": [
    "def apply_threshold(img, thresh, lb, ub):\n",
    "    row, col =  img.shape\n",
    "    \n",
    "    colors = [*range(lb,ub, round(ub/len(thresh)))]\n",
    "    colors.append(ub)\n",
    "    print(colors, thresh)\n",
    "\n",
    "    img_thres = np.zeros((row,col))\n",
    "\n",
    "    for i in range(0, row):\n",
    "        for j in range(0, col):\n",
    "            pixel = img[i,j]\n",
    "            color = -1\n",
    "\n",
    "            for k in range(0, len(thresh)):\n",
    "                if pixel < thresh[k]:\n",
    "                    color = colors[k]\n",
    "                    break\n",
    "                 \n",
    "            if color == -1:\n",
    "                color = colors[len(colors)-1]\n",
    "\n",
    "            img_thres[i,j] = color\n",
    "\n",
    "    return img_thres"
   ]
  },
  {
   "cell_type": "code",
   "execution_count": null,
   "metadata": {},
   "outputs": [],
   "source": [
    "def run_firefly(hist, lb, ub, dimension, entropy, q):\n",
    "    n = 50\n",
    "    d = dimension\n",
    "    gama = 1\n",
    "    alpha = .97\n",
    "    beta = 1\n",
    "    maxGeneration = 100\n",
    "\n",
    "    best_thresholds = wspFirefly(n,d,gama,alpha,beta,maxGeneration, hist, lb, ub, entropy, q)\n",
    "\n",
    "    return best_thresholds"
   ]
  },
  {
   "cell_type": "code",
   "execution_count": null,
   "metadata": {},
   "outputs": [],
   "source": [
    "def run_cuckoo_search(hist, lb, ub, dimension, entropy, q):\n",
    "    n = 40\n",
    "    d = dimension\n",
    "    pa = 0.5\n",
    "    maxGeneration = 100\n",
    "\n",
    "    best_thresholds = wspCuckooSearch(n,d,pa, maxGeneration, hist, lb, ub, entropy, q)\n",
    "\n",
    "    return best_thresholds"
   ]
  },
  {
   "cell_type": "code",
   "execution_count": null,
   "metadata": {},
   "outputs": [],
   "source": [
    "def run_krill_herd(hist, lb, ub, dimension, entropy, q):\n",
    "    n = 40\n",
    "    d = dimension\n",
    "    maxGeneration = 100\n",
    "\n",
    "    best_thresholds = wspKrillHerd(n, d, maxGeneration, hist, lb, ub, entropy, q)\n",
    "\n",
    "    return best_thresholds "
   ]
  },
  {
   "cell_type": "code",
   "execution_count": null,
   "metadata": {},
   "outputs": [],
   "source": [
    "def run_elephant_herding(hist, lb, ub, dimension, entropy, q):\n",
    "    n = 200\n",
    "    nkE = 2\n",
    "    nClan = 5\n",
    "    alpha = 0.5\n",
    "    beta = 0.1\n",
    "    d = dimension\n",
    "    maxGeneration = 100\n",
    "\n",
    "    best_thresholds = wspElephantHerding(n, d, nkE, nClan, alpha, beta, maxGeneration, hist, lb, ub, entropy, q)\n",
    "\n",
    "    return best_thresholds"
   ]
  },
  {
   "cell_type": "code",
   "execution_count": null,
   "metadata": {},
   "outputs": [],
   "source": [
    "def run_artificial_bee_colony(hist, lb, ub, dimension, entropy, q):\n",
    "    n = 20\n",
    "    d = dimension\n",
    "    maxGeneration = 100\n",
    "    \n",
    "    best_thresholds = wspArtificialBeeColony(n, d, maxGeneration, hist, lb, ub, entropy, q)\n",
    "    \n",
    "    return best_thresholds"
   ]
  },
  {
   "cell_type": "code",
   "execution_count": 1,
   "metadata": {},
   "outputs": [],
   "source": [
    "def switch(alg):\n",
    "    if alg == 'FFA': return run_firefly\n",
    "    elif alg == 'CS': return run_cuckoo_search\n",
    "    elif alg == 'KH': return run_krill_herd\n",
    "    elif alg == 'EHO': return run_elephant_herding\n",
    "    elif alg == 'ABC': return run_artificial_bee_colony"
   ]
  },
  {
   "cell_type": "code",
   "execution_count": null,
   "metadata": {},
   "outputs": [],
   "source": [
    "def wspMultithreshold(hu_img, algorithm, dimension, q):\n",
    "    hist, bin_edges, lb, ub = wspGrayHistogram(hu_img)\n",
    "    print(lb, ub)\n",
    "    if q == 1:\n",
    "        entropy = wspShannonEvaluation\n",
    "    else:\n",
    "        entropy = wspTsallisEvaluation\n",
    "    \n",
    "    chosen_algorithm = switch(algorithm) \n",
    "    best_thresholds = chosen_algorithm(hist, lb, ub, dimension, entropy, q)\n",
    "\n",
    "    img_thres = apply_threshold(hu_img, best_thresholds, lb, ub)\n",
    "\n",
    "    return hist, bin_edges, best_thresholds, img_thres"
   ]
  }
 ],
 "metadata": {
  "kernelspec": {
   "display_name": "Python 3.10.4 ('tcc_env')",
   "language": "python",
   "name": "python3"
  },
  "language_info": {
   "codemirror_mode": {
    "name": "ipython",
    "version": 3
   },
   "file_extension": ".py",
   "mimetype": "text/x-python",
   "name": "python",
   "nbconvert_exporter": "python",
   "pygments_lexer": "ipython3",
   "version": "3.10.4"
  },
  "orig_nbformat": 4,
  "vscode": {
   "interpreter": {
    "hash": "50c3a715107fe4dcdc7dcc1225e41dc08fefd31cb688eb0c1f730ec66093fb86"
   }
  }
 },
 "nbformat": 4,
 "nbformat_minor": 2
}
