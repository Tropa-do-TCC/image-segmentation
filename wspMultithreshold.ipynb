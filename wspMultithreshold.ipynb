{
 "cells": [
  {
   "cell_type": "code",
   "execution_count": 1,
   "metadata": {},
   "outputs": [],
   "source": [
    "import numpy as np"
   ]
  },
  {
   "cell_type": "code",
   "execution_count": 2,
   "metadata": {},
   "outputs": [],
   "source": [
    "from ipynb.fs.full.wspFirefly import wspFirefly\n",
    "from ipynb.fs.full.wspCS import wspCuckooSearch\n",
    "from ipynb.fs.full.wspKH import wspKrillHerd"
   ]
  },
  {
   "cell_type": "code",
   "execution_count": null,
   "metadata": {},
   "outputs": [],
   "source": [
    "def wspGrayHistogram(img):\n",
    "    hist, _ = np.histogram(img.ravel(),256,[0,255])\n",
    "\n",
    "    hist = hist/np.sum(hist)\n",
    "\n",
    "    return hist"
   ]
  },
  {
   "cell_type": "code",
   "execution_count": null,
   "metadata": {},
   "outputs": [],
   "source": [
    "def apply_threshold(img, thresh):\n",
    "    row, col =  img.shape\n",
    "    \n",
    "    colors = [*range(0,255, round(255/len(thresh)))]\n",
    "    colors.append(255)\n",
    "    #print(colors, thresh)\n",
    "\n",
    "    img_thres = np.zeros((row,col))\n",
    "\n",
    "    for i in range(0, row):\n",
    "        for j in range(0, col):\n",
    "            pixel = img[i,j]\n",
    "            color = -1\n",
    "\n",
    "            for k in range(0, len(thresh)):\n",
    "                if pixel < thresh[k]:\n",
    "                    color = colors[k]\n",
    "                    break\n",
    "                 \n",
    "            if color == -1:\n",
    "                color = colors[len(colors)-1]\n",
    "\n",
    "            img_thres[i,j] = color\n",
    "\n",
    "    return img_thres"
   ]
  },
  {
   "cell_type": "code",
   "execution_count": null,
   "metadata": {},
   "outputs": [],
   "source": [
    "def run_firefly(hist, dimension):\n",
    "    n = 50\n",
    "    d = dimension\n",
    "    gama = 1\n",
    "    alpha = .97\n",
    "    beta = 1\n",
    "    maxGeneration = 100\n",
    "\n",
    "    best_thresholds = wspFirefly(n,d,gama,alpha,beta,maxGeneration, hist)\n",
    "\n",
    "    return best_thresholds"
   ]
  },
  {
   "cell_type": "code",
   "execution_count": null,
   "metadata": {},
   "outputs": [],
   "source": [
    "def run_cuckoo_search(hist, dimension):\n",
    "    n = 40\n",
    "    d = dimension\n",
    "    pa = 0.5\n",
    "    maxGeneration = 100\n",
    "\n",
    "    best_thresholds = wspCuckooSearch(n,d,pa, maxGeneration, hist)\n",
    "\n",
    "    return best_thresholds"
   ]
  },
  {
   "cell_type": "code",
   "execution_count": null,
   "metadata": {},
   "outputs": [],
   "source": [
    "def run_krill_herd(hist, dimension):\n",
    "    n = 40\n",
    "    d = dimension\n",
    "    maxGeneration = 100\n",
    "\n",
    "    best_thresholds = wspKrillHerd(n, d, maxGeneration, hist)\n",
    "\n",
    "    return best_thresholds "
   ]
  },
  {
   "cell_type": "code",
   "execution_count": null,
   "metadata": {},
   "outputs": [],
   "source": [
    "def switch(alg):\n",
    "    if alg == 'FFA':\n",
    "        return run_firefly\n",
    "    elif alg == 'CS':\n",
    "        return run_cuckoo_search\n",
    "    elif alg == 'KH':\n",
    "        return run_krill_herd"
   ]
  },
  {
   "cell_type": "code",
   "execution_count": null,
   "metadata": {},
   "outputs": [],
   "source": [
    "def wspMultithreshold(img, algorithm, dimension):\n",
    "    hist = wspGrayHistogram(img)\n",
    "\n",
    "    chosen_algorithm = switch(algorithm) \n",
    "    best_thresholds = chosen_algorithm(hist, dimension)\n",
    "\n",
    "    img_thres = apply_threshold(img, best_thresholds)\n",
    "\n",
    "    return hist, best_thresholds, img_thres"
   ]
  }
 ],
 "metadata": {
  "kernelspec": {
   "display_name": "Python 3.10.4 ('tcc_env')",
   "language": "python",
   "name": "python3"
  },
  "language_info": {
   "codemirror_mode": {
    "name": "ipython",
    "version": 3
   },
   "file_extension": ".py",
   "mimetype": "text/x-python",
   "name": "python",
   "nbconvert_exporter": "python",
   "pygments_lexer": "ipython3",
   "version": "3.10.4"
  },
  "orig_nbformat": 4,
  "vscode": {
   "interpreter": {
    "hash": "50c3a715107fe4dcdc7dcc1225e41dc08fefd31cb688eb0c1f730ec66093fb86"
   }
  }
 },
 "nbformat": 4,
 "nbformat_minor": 2
}
